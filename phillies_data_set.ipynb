{
 "cells": [
  {
   "cell_type": "code",
   "execution_count": 1,
   "id": "0a0398e2-bc05-4083-b2e0-3c58f8137758",
   "metadata": {},
   "outputs": [],
   "source": [
    "import pandas as pd\n",
    "import matplotlib.pyplot as plt\n",
    "import seaborn as sns"
   ]
  },
  {
   "cell_type": "code",
   "execution_count": 2,
   "metadata": {},
   "outputs": [],
   "source": [
    "#read in data \n",
    "data_url = \"https://questionnaire-148920.appspot.com/swe/data.html\"\n",
    "salary_data = pd.read_html(data_url)\n",
    "#number_of_tables = len(salary_data)\n",
    "#print(f\"Number of tables found: {number_of_tables}\")\n",
    "#create dataframe\n",
    "salary_data_df = salary_data[0]"
   ]
  },
  {
   "cell_type": "code",
   "execution_count": 3,
   "metadata": {},
   "outputs": [
    {
     "data": {
      "text/html": [
       "<div>\n",
       "<style scoped>\n",
       "    .dataframe tbody tr th:only-of-type {\n",
       "        vertical-align: middle;\n",
       "    }\n",
       "\n",
       "    .dataframe tbody tr th {\n",
       "        vertical-align: top;\n",
       "    }\n",
       "\n",
       "    .dataframe thead th {\n",
       "        text-align: right;\n",
       "    }\n",
       "</style>\n",
       "<table border=\"1\" class=\"dataframe\">\n",
       "  <thead>\n",
       "    <tr style=\"text-align: right;\">\n",
       "      <th></th>\n",
       "      <th>Player</th>\n",
       "      <th>Salary</th>\n",
       "      <th>Year</th>\n",
       "      <th>Level</th>\n",
       "    </tr>\n",
       "  </thead>\n",
       "  <tbody>\n",
       "    <tr>\n",
       "      <th>0</th>\n",
       "      <td>Abreu, Jose</td>\n",
       "      <td>$11,666,667</td>\n",
       "      <td>2016</td>\n",
       "      <td>MLB</td>\n",
       "    </tr>\n",
       "    <tr>\n",
       "      <th>1</th>\n",
       "      <td>Acevedo, Andury</td>\n",
       "      <td>$507,500</td>\n",
       "      <td>2016</td>\n",
       "      <td>MLB</td>\n",
       "    </tr>\n",
       "    <tr>\n",
       "      <th>2</th>\n",
       "      <td>Ackley, Dustin</td>\n",
       "      <td>$3,200,000</td>\n",
       "      <td>2016</td>\n",
       "      <td>MLB</td>\n",
       "    </tr>\n",
       "    <tr>\n",
       "      <th>3</th>\n",
       "      <td>Adames, Cristhian</td>\n",
       "      <td>no salary data</td>\n",
       "      <td>2016</td>\n",
       "      <td>MLB</td>\n",
       "    </tr>\n",
       "    <tr>\n",
       "      <th>4</th>\n",
       "      <td>Adams, Austin</td>\n",
       "      <td>$507,500</td>\n",
       "      <td>2016</td>\n",
       "      <td>MLB</td>\n",
       "    </tr>\n",
       "    <tr>\n",
       "      <th>...</th>\n",
       "      <td>...</td>\n",
       "      <td>...</td>\n",
       "      <td>...</td>\n",
       "      <td>...</td>\n",
       "    </tr>\n",
       "    <tr>\n",
       "      <th>1203</th>\n",
       "      <td>Zimmerman, Ryan</td>\n",
       "      <td>$14,000,000</td>\n",
       "      <td>2016</td>\n",
       "      <td>MLB</td>\n",
       "    </tr>\n",
       "    <tr>\n",
       "      <th>1204</th>\n",
       "      <td>Zimmermann, Jordan</td>\n",
       "      <td>$18000000</td>\n",
       "      <td>2016</td>\n",
       "      <td>MLB</td>\n",
       "    </tr>\n",
       "    <tr>\n",
       "      <th>1205</th>\n",
       "      <td>Zobrist, Ben</td>\n",
       "      <td>$10,500,000</td>\n",
       "      <td>2016</td>\n",
       "      <td>MLB</td>\n",
       "    </tr>\n",
       "    <tr>\n",
       "      <th>1206</th>\n",
       "      <td>Zunino, Mike</td>\n",
       "      <td>$507,500</td>\n",
       "      <td>2016</td>\n",
       "      <td>MLB</td>\n",
       "    </tr>\n",
       "    <tr>\n",
       "      <th>1207</th>\n",
       "      <td>Zych, Tony</td>\n",
       "      <td>$507,500</td>\n",
       "      <td>2016</td>\n",
       "      <td>MLB</td>\n",
       "    </tr>\n",
       "  </tbody>\n",
       "</table>\n",
       "<p>1208 rows × 4 columns</p>\n",
       "</div>"
      ],
      "text/plain": [
       "                  Player          Salary  Year Level\n",
       "0            Abreu, Jose     $11,666,667  2016   MLB\n",
       "1        Acevedo, Andury        $507,500  2016   MLB\n",
       "2         Ackley, Dustin      $3,200,000  2016   MLB\n",
       "3      Adames, Cristhian  no salary data  2016   MLB\n",
       "4          Adams, Austin        $507,500  2016   MLB\n",
       "...                  ...             ...   ...   ...\n",
       "1203     Zimmerman, Ryan     $14,000,000  2016   MLB\n",
       "1204  Zimmermann, Jordan       $18000000  2016   MLB\n",
       "1205        Zobrist, Ben     $10,500,000  2016   MLB\n",
       "1206        Zunino, Mike        $507,500  2016   MLB\n",
       "1207          Zych, Tony        $507,500  2016   MLB\n",
       "\n",
       "[1208 rows x 4 columns]"
      ]
     },
     "metadata": {},
     "output_type": "display_data"
    }
   ],
   "source": [
    "#outputting read data \n",
    "display(salary_data_df)"
   ]
  },
  {
   "cell_type": "markdown",
   "metadata": {},
   "source": [
    "Confirming that the table is read properly from the provided URL"
   ]
  },
  {
   "cell_type": "code",
   "execution_count": 4,
   "metadata": {},
   "outputs": [
    {
     "name": "stdout",
     "output_type": "stream",
     "text": [
      "Player     0\n",
      "Salary    21\n",
      "Year       0\n",
      "Level      0\n",
      "dtype: int64\n"
     ]
    }
   ],
   "source": [
    "#count table null values \n",
    "#checking for potential corrupted data on columns\n",
    "null_count = salary_data_df.isnull().sum()\n",
    "print(null_count)\n"
   ]
  },
  {
   "cell_type": "markdown",
   "metadata": {},
   "source": [
    "Counting Null values in table "
   ]
  },
  {
   "cell_type": "code",
   "execution_count": 5,
   "metadata": {},
   "outputs": [
    {
     "name": "stderr",
     "output_type": "stream",
     "text": [
      "<>:1: SyntaxWarning: invalid escape sequence '\\$'\n",
      "<>:3: SyntaxWarning: invalid escape sequence '\\$'\n",
      "<>:1: SyntaxWarning: invalid escape sequence '\\$'\n",
      "<>:3: SyntaxWarning: invalid escape sequence '\\$'\n",
      "/var/folders/js/vf_kflfx4qs8h5wtfz7c2b840000gn/T/ipykernel_34981/2663889102.py:1: SyntaxWarning: invalid escape sequence '\\$'\n",
      "  salary_data_df['Salary'] = pd.to_numeric(salary_data_df['Salary'].replace('[\\$,]','', regex=True), errors='coerce')\n",
      "/var/folders/js/vf_kflfx4qs8h5wtfz7c2b840000gn/T/ipykernel_34981/2663889102.py:3: SyntaxWarning: invalid escape sequence '\\$'\n",
      "  salary_data_df['Salary'] = salary_data_df['Salary'].replace('[\\$,]','', regex=True).astype(float)\n"
     ]
    }
   ],
   "source": [
    "salary_data_df['Salary'] = pd.to_numeric(salary_data_df['Salary'].replace('[\\$,]','', regex=True), errors='coerce')\n",
    "salary_data_df.dropna(subset=['Salary'], inplace=True)\n",
    "salary_data_df['Salary'] = salary_data_df['Salary'].replace('[\\$,]','', regex=True).astype(float)\n",
    "# Calculate the median salary, excluding NaN values\n",
    "median_salary = salary_data_df['Salary'].median()\n",
    "# Fill NaN values in the 'Salary' column with the median salary\n",
    "salary_data_df['Salary'].fillna(median_salary, inplace=True)"
   ]
  },
  {
   "cell_type": "markdown",
   "metadata": {},
   "source": [
    "replacing null salary values in table with median salary. "
   ]
  },
  {
   "cell_type": "code",
   "execution_count": 6,
   "metadata": {},
   "outputs": [
    {
     "data": {
      "text/html": [
       "<div>\n",
       "<style scoped>\n",
       "    .dataframe tbody tr th:only-of-type {\n",
       "        vertical-align: middle;\n",
       "    }\n",
       "\n",
       "    .dataframe tbody tr th {\n",
       "        vertical-align: top;\n",
       "    }\n",
       "\n",
       "    .dataframe thead th {\n",
       "        text-align: right;\n",
       "    }\n",
       "</style>\n",
       "<table border=\"1\" class=\"dataframe\">\n",
       "  <thead>\n",
       "    <tr style=\"text-align: right;\">\n",
       "      <th></th>\n",
       "      <th>Player</th>\n",
       "      <th>Salary</th>\n",
       "      <th>Year</th>\n",
       "      <th>Level</th>\n",
       "    </tr>\n",
       "  </thead>\n",
       "  <tbody>\n",
       "    <tr>\n",
       "      <th>0</th>\n",
       "      <td>Abreu, Jose</td>\n",
       "      <td>11666667.0</td>\n",
       "      <td>2016</td>\n",
       "      <td>MLB</td>\n",
       "    </tr>\n",
       "    <tr>\n",
       "      <th>1</th>\n",
       "      <td>Acevedo, Andury</td>\n",
       "      <td>507500.0</td>\n",
       "      <td>2016</td>\n",
       "      <td>MLB</td>\n",
       "    </tr>\n",
       "    <tr>\n",
       "      <th>2</th>\n",
       "      <td>Ackley, Dustin</td>\n",
       "      <td>3200000.0</td>\n",
       "      <td>2016</td>\n",
       "      <td>MLB</td>\n",
       "    </tr>\n",
       "    <tr>\n",
       "      <th>4</th>\n",
       "      <td>Adams, Austin</td>\n",
       "      <td>507500.0</td>\n",
       "      <td>2016</td>\n",
       "      <td>MLB</td>\n",
       "    </tr>\n",
       "    <tr>\n",
       "      <th>5</th>\n",
       "      <td>Adams, Matt</td>\n",
       "      <td>1650000.0</td>\n",
       "      <td>2016</td>\n",
       "      <td>MLB</td>\n",
       "    </tr>\n",
       "    <tr>\n",
       "      <th>...</th>\n",
       "      <td>...</td>\n",
       "      <td>...</td>\n",
       "      <td>...</td>\n",
       "      <td>...</td>\n",
       "    </tr>\n",
       "    <tr>\n",
       "      <th>1203</th>\n",
       "      <td>Zimmerman, Ryan</td>\n",
       "      <td>14000000.0</td>\n",
       "      <td>2016</td>\n",
       "      <td>MLB</td>\n",
       "    </tr>\n",
       "    <tr>\n",
       "      <th>1204</th>\n",
       "      <td>Zimmermann, Jordan</td>\n",
       "      <td>18000000.0</td>\n",
       "      <td>2016</td>\n",
       "      <td>MLB</td>\n",
       "    </tr>\n",
       "    <tr>\n",
       "      <th>1205</th>\n",
       "      <td>Zobrist, Ben</td>\n",
       "      <td>10500000.0</td>\n",
       "      <td>2016</td>\n",
       "      <td>MLB</td>\n",
       "    </tr>\n",
       "    <tr>\n",
       "      <th>1206</th>\n",
       "      <td>Zunino, Mike</td>\n",
       "      <td>507500.0</td>\n",
       "      <td>2016</td>\n",
       "      <td>MLB</td>\n",
       "    </tr>\n",
       "    <tr>\n",
       "      <th>1207</th>\n",
       "      <td>Zych, Tony</td>\n",
       "      <td>507500.0</td>\n",
       "      <td>2016</td>\n",
       "      <td>MLB</td>\n",
       "    </tr>\n",
       "  </tbody>\n",
       "</table>\n",
       "<p>1164 rows × 4 columns</p>\n",
       "</div>"
      ],
      "text/plain": [
       "                  Player      Salary  Year Level\n",
       "0            Abreu, Jose  11666667.0  2016   MLB\n",
       "1        Acevedo, Andury    507500.0  2016   MLB\n",
       "2         Ackley, Dustin   3200000.0  2016   MLB\n",
       "4          Adams, Austin    507500.0  2016   MLB\n",
       "5            Adams, Matt   1650000.0  2016   MLB\n",
       "...                  ...         ...   ...   ...\n",
       "1203     Zimmerman, Ryan  14000000.0  2016   MLB\n",
       "1204  Zimmermann, Jordan  18000000.0  2016   MLB\n",
       "1205        Zobrist, Ben  10500000.0  2016   MLB\n",
       "1206        Zunino, Mike    507500.0  2016   MLB\n",
       "1207          Zych, Tony    507500.0  2016   MLB\n",
       "\n",
       "[1164 rows x 4 columns]"
      ]
     },
     "metadata": {},
     "output_type": "display_data"
    }
   ],
   "source": [
    "#null_count = salary_data_df.isnull().sum()\n",
    "#print(null_count)\n",
    "display(salary_data_df)\n",
    "most_recent_year = salary_data_df['Year'].max()"
   ]
  },
  {
   "cell_type": "code",
   "execution_count": 7,
   "metadata": {},
   "outputs": [
    {
     "data": {
      "text/plain": [
       "583     34571429.0\n",
       "449     34000000.0\n",
       "871     30000000.0\n",
       "471     28410000.0\n",
       "159     28000000.0\n",
       "           ...    \n",
       "1152    10550000.0\n",
       "1205    10500000.0\n",
       "1057    10400000.0\n",
       "257     10000000.0\n",
       "322     10000000.0\n",
       "Name: Salary, Length: 125, dtype: float64"
      ]
     },
     "metadata": {},
     "output_type": "display_data"
    }
   ],
   "source": [
    "display(salary_data_df.nlargest(125, 'Salary')['Salary'])\n",
    "top_125_salaries = salary_data_df.nlargest(125, 'Salary')['Salary']\n",
    "# Calculate the average (mean) manually\n",
    "contract_offer = top_125_salaries.sum() / len(top_125_salaries)"
   ]
  },
  {
   "cell_type": "code",
   "execution_count": 8,
   "metadata": {},
   "outputs": [
    {
     "name": "stdout",
     "output_type": "stream",
     "text": [
      "Qualifying Offer: 2016: $16,747,394.14\n"
     ]
    }
   ],
   "source": [
    "\n",
    "print(f\"Qualifying Offer: {most_recent_year}: ${contract_offer:,.2f}\")"
   ]
  },
  {
   "cell_type": "code",
   "execution_count": 9,
   "metadata": {},
   "outputs": [],
   "source": [
    "%matplotlib inline"
   ]
  },
  {
   "cell_type": "code",
   "execution_count": 10,
   "metadata": {},
   "outputs": [],
   "source": [
    "\n",
    "top_125_salaries = salary_data_df.nlargest(125, 'Salary').sort_values(by='Salary', ascending=False)\n"
   ]
  },
  {
   "cell_type": "code",
   "execution_count": 11,
   "metadata": {},
   "outputs": [],
   "source": [
    "top_125_salaries = salary_data_df.nlargest(125, 'Salary').sort_values(by='Salary', ascending=False)"
   ]
  },
  {
   "cell_type": "code",
   "execution_count": 12,
   "metadata": {},
   "outputs": [
    {
     "data": {
      "image/png": "[encoded data removed]",
      "text/plain": [
       "<Figure size 640x480 with 1 Axes>"
      ]
     },
     "metadata": {},
     "output_type": "display_data"
    }
   ],
   "source": [
    "# Create a line plot using Seaborn\n",
    "sns.lineplot(data=top_125_salaries['Salary'].reset_index(drop=True))\n",
    "\n",
    "# Add a horizontal line for the Qualifying Offer\n",
    "plt.axhline(y=contract_offer, color='r', linestyle='-', label=f'Qualifying Offer: ${contract_offer:,.2f}')\n",
    "plt.title('Top 125 MLB Player Salaries in {most_recent_year} with Qualifying Offer')\n",
    "plt.xlabel('Players (Top 125)')\n",
    "plt.ylabel('Salary')\n",
    "plt.grid(True)\n",
    "plt.legend()\n",
    "plt.show()"
   ]
  },
  {
   "cell_type": "code",
   "execution_count": null,
   "metadata": {},
   "outputs": [],
   "source": []
  }
 ],
 "metadata": {
  "kernelspec": {
   "display_name": "Python 3 (ipykernel)",
   "language": "python",
   "name": "python3"
  },
  "language_info": {
   "codemirror_mode": {
    "name": "ipython",
    "version": 3
   },
   "file_extension": ".py",
   "mimetype": "text/x-python",
   "name": "python",
   "nbconvert_exporter": "python",
   "pygments_lexer": "ipython3",
   "version": "3.12.0"
  }
 },
 "nbformat": 4,
 "nbformat_minor": 5
}
